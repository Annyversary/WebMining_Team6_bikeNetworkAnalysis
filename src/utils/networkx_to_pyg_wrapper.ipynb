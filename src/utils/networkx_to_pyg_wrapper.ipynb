{
 "cells": [
  {
   "cell_type": "code",
   "execution_count": 1,
   "id": "d30ba6d6",
   "metadata": {},
   "outputs": [],
   "source": [
    "import torch\n",
    "from torch_geometric.utils import from_networkx\n",
    "\n",
    "def from_networkx_with_edge_attrs(G):\n",
    "    \"\"\"\n",
    "    Converts a NetworkX graph to a PyTorch Geometric Data object.\n",
    "    All edge attributes are preserved and added as edge features.\n",
    "\n",
    "    Args:\n",
    "        G (networkx.Graph): The input NetworkX graph, which should have edge attributes.\n",
    "\n",
    "    Returns:\n",
    "        torch_geometric.data.Data: A PyTorch Geometric Data object containing the graph's node features, \n",
    "        edge indices, and edge attributes.\n",
    "    \"\"\"\n",
    "    # Convert the NetworkX graph to a PyTorch Geometric Data object\n",
    "    data = from_networkx(G)\n",
    "    \n",
    "    # Get the edge attributes (keys) from the first edge\n",
    "    edge_keys = list(next(iter(G.edges(data=True)))[2].keys())  # Get all edge attribute keys\n",
    "    \n",
    "    # Prepare a list to store the edge features (attributes)\n",
    "    edge_features = []\n",
    "\n",
    "    # Loop through each edge attribute key\n",
    "    for key in edge_keys:\n",
    "        # Set the appropriate data type for the edge attribute\n",
    "        dtype = torch.float32 if key == 'speed_rel' else torch.long\n",
    "        \n",
    "        # Collect the edge attributes for the current key\n",
    "        edge_features.append(torch.tensor([G.edges[u, v][key] for u, v in G.edges()], dtype=dtype).unsqueeze(1))\n",
    "    \n",
    "    # Concatenate all edge features along the second dimension (column-wise)\n",
    "    data.edge_attr = torch.cat(edge_features, dim=1)\n",
    "    \n",
    "    return data\n"
   ]
  }
 ],
 "metadata": {
  "kernelspec": {
   "display_name": "Python 3",
   "language": "python",
   "name": "python3"
  },
  "language_info": {
   "codemirror_mode": {
    "name": "ipython",
    "version": 3
   },
   "file_extension": ".py",
   "mimetype": "text/x-python",
   "name": "python",
   "nbconvert_exporter": "python",
   "pygments_lexer": "ipython3",
   "version": "3.13.2"
  }
 },
 "nbformat": 4,
 "nbformat_minor": 5
}
