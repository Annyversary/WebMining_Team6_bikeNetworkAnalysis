{
 "cells": [
  {
   "cell_type": "markdown",
   "id": "122eb1c4",
   "metadata": {},
   "source": [
    "## Wrapper Method: `transform_networkx_into_pyg`\n",
    "\n",
    "This wrapper provides a method for converting a **NetworkX graph** into a **PyTorch Geometric `Data` object**, including all available **node and edge attributes**. This step is essential because **PyTorch Geometric does not natively support `.graphml` files** and therefore cannot load them directly. The conversion enables further processing and training with Graph Neural Networks (GNNs) in PyTorch Geometric.\n",
    "\n",
    "\n",
    "### Purpose and Considerations\n",
    "\n",
    "NetworkX is a widely used library for creating and manipulating graphs in Python. However, to use these graphs within a PyTorch Geometric pipeline, they must first be converted into the framework’s specific `Data` format. This object typically includes:\n",
    "\n",
    "- `x`: Node features (Geographical coordinates such as longitude and latitude) \n",
    "*(*Additional nodes after feature engineering*)*\n",
    "- `edge_index`: Graph connectivity in COO format\n",
    "- `edge_attr`: Edge attributes\n",
    "\n",
    "This wrapper ensures that all relevant node and edge information is preserved during the conversion."
   ]
  },
  {
   "cell_type": "code",
   "execution_count": null,
   "id": "d30ba6d6",
   "metadata": {},
   "outputs": [],
   "source": [
    "import torch\n",
    "from torch_geometric.utils import from_networkx\n",
    "\n",
    "def transform_networkx_into_pyg(G):\n",
    "    \"\"\"\n",
    "    Converts a NetworkX graph to a PyTorch Geometric Data object.\n",
    "    All node and edge attributes are preserved and added as node features and edge features, respectively.\n",
    "\n",
    "    Args:\n",
    "        G (networkx.Graph): The input NetworkX graph, which should contain all node and edge attributes.\n",
    "\n",
    "    Returns:\n",
    "        torch_geometric.data.Data: A PyTorch Geometric Data object containing the graph's node features, \n",
    "        edge indices, and edge attributes.\n",
    "    \"\"\"\n",
    "\n",
    "    # Convert the NetworkX graph to a PyTorch Geometric Data object\n",
    "    data = from_networkx(G)\n",
    "    \n",
    "    # --- 1. Add node features (e.g., lon, lat) to data.x ---\n",
    "    node_features = []\n",
    "    for node, attrs in G.nodes(data=True):\n",
    "        lon = float(attrs.get(\"lon\", 0.0)) \n",
    "        lat = float(attrs.get(\"lat\", 0.0))\n",
    "        node_features.append([lon, lat])  \n",
    "\n",
    "    data.x = torch.tensor(node_features, dtype=torch.float) \n",
    "    \n",
    "    # --- 2. Edge attribute handling\n",
    "    edge_keys = list(next(iter(G.edges(data=True)))[2].keys())\n",
    "\n",
    "    edge_features = []\n",
    "    for key in edge_keys:\n",
    "        dtype = torch.float32 if key == 'speed_rel' else torch.long\n",
    "        edge_features.append(torch.tensor([G.edges[u, v][key] for u, v in G.edges()], dtype=dtype).unsqueeze(1))\n",
    "\n",
    "    data.edge_attr = torch.cat(edge_features, dim=1)\n",
    "\n",
    "    return data\n"
   ]
  }
 ],
 "metadata": {
  "kernelspec": {
   "display_name": "Python 3",
   "language": "python",
   "name": "python3"
  },
  "language_info": {
   "codemirror_mode": {
    "name": "ipython",
    "version": 3
   },
   "file_extension": ".py",
   "mimetype": "text/x-python",
   "name": "python",
   "nbconvert_exporter": "python",
   "pygments_lexer": "ipython3",
   "version": "3.13.2"
  }
 },
 "nbformat": 4,
 "nbformat_minor": 5
}
