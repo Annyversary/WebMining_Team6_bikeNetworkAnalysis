{
 "cells": [
  {
   "cell_type": "markdown",
   "id": "122eb1c4",
   "metadata": {},
   "source": [
    "## Wrapper Method: `transform_networkx_into_pyg`\n",
    "\n",
    "This wrapper provides a method for converting a **NetworkX graph** into a **PyTorch Geometric `Data` object**, including all available **edge attributes**. This step is essential because **PyTorch Geometric does not natively support `.graphml` files** and therefore cannot load them directly. The conversion enables further processing and training with Graph Neural Networks (GNNs) in PyTorch Geometric.\n",
    "\n",
    "### Purpose and Considerations\n",
    "\n",
    "NetworkX is a widely used library for creating and manipulating graphs in Python. However, to use these graphs within a PyTorch Geometric pipeline, they must first be converted into the framework’s specific `Data` format. This object typically includes:\n",
    "\n",
    "- `x`: Node features  \n",
    "  *(*Not yet implemented – to be added after feature engineering*)*\n",
    "- `edge_index`: Graph connectivity in COO format\n",
    "- `edge_attr`: Edge attributes\n",
    "\n",
    "This wrapper ensures that all relevant edge information is preserved during the conversion.\n"
   ]
  },
  {
   "cell_type": "code",
   "execution_count": null,
   "id": "d30ba6d6",
   "metadata": {},
   "outputs": [],
   "source": [
    "import torch\n",
    "from torch_geometric.utils import from_networkx\n",
    "\n",
    "def transform_networkx_into_pyg(G):\n",
    "    \"\"\"\n",
    "    Converts a NetworkX graph to a PyTorch Geometric Data object.\n",
    "    All edge attributes are preserved and added as edge features.\n",
    "\n",
    "    Args:\n",
    "        G (networkx.Graph): The input NetworkX graph, which should have edge attributes.\n",
    "\n",
    "    Returns:\n",
    "        torch_geometric.data.Data: A PyTorch Geometric Data object containing the graph's node features, \n",
    "        edge indices, and edge attributes.\n",
    "    \"\"\"\n",
    "    # Convert the NetworkX graph to a PyTorch Geometric Data object\n",
    "    data = from_networkx(G)\n",
    "    \n",
    "    # Get the edge attributes (keys) from the first edge\n",
    "    edge_keys = list(next(iter(G.edges(data=True)))[2].keys())  # Get all edge attribute keys\n",
    "    \n",
    "    # Prepare a list to store the edge features (attributes)\n",
    "    edge_features = []\n",
    "\n",
    "    # Loop through each edge attribute key\n",
    "    for key in edge_keys:\n",
    "        # Set the appropriate data type for the edge attribute\n",
    "        dtype = torch.float32 if key == 'speed_rel' else torch.long\n",
    "        \n",
    "        # Collect the edge attributes for the current key\n",
    "        edge_features.append(torch.tensor([G.edges[u, v][key] for u, v in G.edges()], dtype=dtype).unsqueeze(1))\n",
    "    \n",
    "    # Concatenate all edge features along the second dimension (column-wise)\n",
    "    data.edge_attr = torch.cat(edge_features, dim=1)\n",
    "    \n",
    "    return data\n"
   ]
  }
 ],
 "metadata": {
  "kernelspec": {
   "display_name": "Python 3",
   "language": "python",
   "name": "python3"
  },
  "language_info": {
   "codemirror_mode": {
    "name": "ipython",
    "version": 3
   },
   "file_extension": ".py",
   "mimetype": "text/x-python",
   "name": "python",
   "nbconvert_exporter": "python",
   "pygments_lexer": "ipython3",
   "version": "3.13.2"
  }
 },
 "nbformat": 4,
 "nbformat_minor": 5
}
