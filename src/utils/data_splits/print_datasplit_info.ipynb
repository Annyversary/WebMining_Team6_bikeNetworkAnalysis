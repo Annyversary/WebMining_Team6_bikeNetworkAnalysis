{
 "cells": [
  {
   "cell_type": "markdown",
   "id": "abb5fdb3",
   "metadata": {},
   "source": [
    "### Inspecting the Structure of a Graph Batch\n",
    "\n",
    "To better understand the structure of the batched graph data used in our pipeline, we implemented a utility function called `print_batch_shape`. This function takes a PyTorch Geometric `Batch` object as input and prints key statistics about its contents.\n",
    "\n",
    "Specifically, it outputs:\n",
    "- The number of individual graphs in the batch\n",
    "- The total number of nodes and edges\n",
    "- The shape of the node feature matrix (`x`)\n",
    "- The shape of the edge index tensor (`edge_index`)\n",
    "- The shape of the edge attributes tensor (`edge_attr`), if available\n",
    "\n",
    "This function is useful for debugging and verifying the correct assembly of graph batches prior to model training or evaluation.\n"
   ]
  },
  {
   "cell_type": "code",
   "execution_count": 1,
   "id": "244444b7",
   "metadata": {},
   "outputs": [],
   "source": [
    "def print_batch_shape(batch):\n",
    "    \"\"\"\n",
    "    Prints detailed information about the structure of a PyTorch Geometric batch.\n",
    "\n",
    "    Parameters:\n",
    "    -----------\n",
    "    batch : torch_geometric.data.Batch\n",
    "        A batched PyTorch Geometric Data object containing multiple graphs.\n",
    "\n",
    "    Outputs:\n",
    "    --------\n",
    "    Prints the number of graphs, total number of nodes and edges,\n",
    "    and the shapes of node features, edge indices, and edge attributes (if present).\n",
    "    \"\"\"\n",
    "\n",
    "    num_graphs = batch.num_graphs\n",
    "    print(f\"Number of graphs in batch: {num_graphs}\")\n",
    "    \n",
    "    # Nodes\n",
    "    num_nodes = batch.x.shape[0]\n",
    "    print(f\"Number of nodes: {num_nodes}\")\n",
    "    print(f\"Node feature shape: {batch.x.shape}\")\n",
    "    \n",
    "    # Edges\n",
    "    num_edges = batch.edge_index.shape[1]  \n",
    "    print(f\"Number of edges: {num_edges}\")\n",
    "    print(f\"Edge index shape: {batch.edge_index.shape}\")\n",
    "    \n",
    "    if batch.edge_attr is not None:\n",
    "        print(f\"Edge attributes shape: {batch.edge_attr.shape}\")\n",
    "    \n",
    "    if batch.x is not None:\n",
    "        print(f\"Node features shape: {batch.x.shape}\")\n",
    "    else:\n",
    "        print(\"No node features available.\")\n"
   ]
  }
 ],
 "metadata": {
  "kernelspec": {
   "display_name": "Python 3",
   "language": "python",
   "name": "python3"
  },
  "language_info": {
   "codemirror_mode": {
    "name": "ipython",
    "version": 3
   },
   "file_extension": ".py",
   "mimetype": "text/x-python",
   "name": "python",
   "nbconvert_exporter": "python",
   "pygments_lexer": "ipython3",
   "version": "3.13.2"
  }
 },
 "nbformat": 4,
 "nbformat_minor": 5
}
