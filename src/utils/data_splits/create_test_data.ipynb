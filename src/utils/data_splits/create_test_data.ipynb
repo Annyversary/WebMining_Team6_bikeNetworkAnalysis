{
 "cells": [
  {
   "cell_type": "markdown",
   "id": "e4a8a0ef",
   "metadata": {},
   "source": [
    "## Create Test Set"
   ]
  },
  {
   "cell_type": "markdown",
   "id": "793e8a9d",
   "metadata": {},
   "source": [
    "### Importing Dependencies\n",
    "\n",
    "We import the necessary libraries and functions, ensuring that all required modules and helper functions are properly integrated."
   ]
  },
  {
   "cell_type": "code",
   "execution_count": 2,
   "id": "29e32538",
   "metadata": {},
   "outputs": [],
   "source": [
    "import os\n",
    "import networkx as nx\n",
    "import torch\n",
    "import sys\n",
    "import import_ipynb \n",
    "\n",
    "src_path = os.path.abspath(os.path.join(os.getcwd(), \"..\", \"..\"))\n",
    "if src_path not in sys.path:\n",
    "    sys.path.append(src_path)\n",
    "\n",
    "from torch_geometric.data import Batch\n",
    "from utils.helper_functions.load_graphml_files import load_graphml_files\n",
    "from utils.data_splits.normalize_feature_attributes import normalize_test_features\n",
    "from utils.data_splits.print_datasplit_info import print_batch_shape\n",
    "\n"
   ]
  },
  {
   "cell_type": "markdown",
   "id": "c36a69a0",
   "metadata": {},
   "source": [
    "### Executing the Pipeline for Creating the Test Dataset\n",
    "\n",
    "This script defines a `main` function that orchestrates the complete pipeline for generating a test dataset for Graph Neural Networks (GNNs). The previously defined functions are called sequentially to:\n",
    "\n",
    "1. **Load the graph data**: The GraphML files for the specified years are loaded into PyTorch Geometric `Data` objects.\n",
    "2. **Batch the graphs**: The individual graphs are then combined into a single batched dataset.\n",
    "3. **Feature normalization**: The features are normalized using the scalers that were previously initialized during training.\n",
    "4. **Print batch statistics**: To gain insight into the structure of the test set, the number of graphs, nodes, and edges is printed.\n",
    "\n",
    "The resulting test dataset is then saved for later use in model evaluation.\n"
   ]
  },
  {
   "cell_type": "code",
   "execution_count": 3,
   "id": "fc75d343",
   "metadata": {},
   "outputs": [
    {
     "name": "stdout",
     "output_type": "stream",
     "text": [
      "Number of loaded graphs: 12\n",
      "\n",
      "Test Data Statistics:\n",
      "Number of graphs in batch: 12\n",
      "Number of nodes: 163599\n",
      "Node feature shape: torch.Size([163599, 2])\n",
      "Number of edges: 390360\n",
      "Edge index shape: torch.Size([2, 390360])\n",
      "Edge attributes shape: torch.Size([390360, 4])\n",
      "Node features shape: torch.Size([163599, 2])\n",
      "\n",
      "Test data saved to: ..\\..\\..\\data\\data_splits\\test_data.pt\n"
     ]
    }
   ],
   "source": [
    "def main(years=[2024]):\n",
    "    save_dir = os.path.join(\"..\", \"..\", \"..\", \"data\", \"data_splits\")\n",
    "    os.makedirs(save_dir, exist_ok=True)\n",
    "    test_save_path = os.path.join(save_dir, \"test_data.pt\")\n",
    "\n",
    "    test_data_list = load_graphml_files(years)\n",
    "    test_data_batch = Batch.from_data_list(test_data_list)\n",
    "    test_data_batch = normalize_test_features(test_data_batch)\n",
    "    print(\"\\nTest Data Statistics:\")\n",
    "    print_batch_shape(test_data_batch)\n",
    "\n",
    "    torch.save(test_data_batch, test_save_path)\n",
    "    print(f\"\\nTest data saved to: {test_save_path}\")\n",
    "\n",
    "main()\n"
   ]
  }
 ],
 "metadata": {
  "kernelspec": {
   "display_name": "Python 3",
   "language": "python",
   "name": "python3"
  },
  "language_info": {
   "codemirror_mode": {
    "name": "ipython",
    "version": 3
   },
   "file_extension": ".py",
   "mimetype": "text/x-python",
   "name": "python",
   "nbconvert_exporter": "python",
   "pygments_lexer": "ipython3",
   "version": "3.13.2"
  }
 },
 "nbformat": 4,
 "nbformat_minor": 5
}
