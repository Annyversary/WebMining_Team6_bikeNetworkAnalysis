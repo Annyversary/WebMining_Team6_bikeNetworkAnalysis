{
 "cells": [
  {
   "cell_type": "code",
   "execution_count": 1,
   "id": "29e32538",
   "metadata": {},
   "outputs": [
    {
     "name": "stdout",
     "output_type": "stream",
     "text": [
      "Working directory: c:\\Users\\yanni\\OneDrive\\Dokumente\\Master Wifo\\2\\Web Mining\\Projekt\\WebMining_Team6_bikeNetworkAnalysis\\src\\utils\\data_splits\n"
     ]
    }
   ],
   "source": [
    "import os\n",
    "import networkx as nx\n",
    "import torch\n",
    "import sys\n",
    "import import_ipynb \n",
    "\n",
    "src_path = os.path.abspath(os.path.join(os.getcwd(), \"..\", \"..\"))\n",
    "if src_path not in sys.path:\n",
    "    sys.path.append(src_path)\n",
    "\n",
    "from torch_geometric.data import Batch\n",
    "from utils.wrapper.transform_networkx_into_pyg import transform_networkx_into_pyg\n",
    "from utils.helper_functions.normalize_feature_attributes import normalize_test_features\n",
    "\n"
   ]
  },
  {
   "cell_type": "code",
   "execution_count": 2,
   "id": "f5ede1c7",
   "metadata": {},
   "outputs": [],
   "source": [
    "def load_graphml_files(years=[2024]):\n",
    "    \"\"\"\n",
    "    Loads multiple directed graph files in GraphML format and converts them \n",
    "    into PyTorch Geometric (PyG) Data objects.\n",
    "\n",
    "    Parameters:\n",
    "    -----------\n",
    "    years : list of int, optional (default=[2024])\n",
    "        List of years for which graph files should be loaded. \n",
    "        Assumes 12 monthly files per year.\n",
    "\n",
    "    Returns:\n",
    "    --------\n",
    "    data_list : list of torch_geometric.data.Data\n",
    "        List of PyG data objects created from the loaded NetworkX graphs.\n",
    "    \"\"\"\n",
    "\n",
    "    testdata_list = []\n",
    "\n",
    "    for year in years:\n",
    "        for i in range(12):\n",
    "            path = f\"../../../data/graphml/{year}/bike_network_{year}_{i}.graphml\"\n",
    "            if not os.path.exists(path):\n",
    "                print(f\"[WARN] File not found: {path}\")\n",
    "                continue\n",
    "\n",
    "            G_nx = nx.read_graphml(path)\n",
    "            G_nx = nx.DiGraph(G_nx)\n",
    "\n",
    "            data = transform_networkx_into_pyg(G_nx)\n",
    "            testdata_list.append(data)\n",
    "\n",
    "    print(f\"Number of loaded graphs: {len(testdata_list)}\")\n",
    "    return testdata_list\n"
   ]
  },
  {
   "cell_type": "code",
   "execution_count": 3,
   "id": "fc75d343",
   "metadata": {},
   "outputs": [
    {
     "name": "stdout",
     "output_type": "stream",
     "text": [
      "Number of loaded graphs: 12\n",
      "\n",
      "Test data saved to: ../../../data/data_splits\\test_data.pt\n"
     ]
    }
   ],
   "source": [
    "def main(years=[2024]):\n",
    "    save_dir = \"../../../data/data_splits\"\n",
    "    os.makedirs(save_dir, exist_ok=True)\n",
    "    test_save_path = os.path.join(save_dir, \"test_data.pt\")\n",
    "\n",
    "    test_data_list = load_graphml_files(years)\n",
    "    test_data_batch = Batch.from_data_list(test_data_list)\n",
    "    test_data_batch = normalize_test_features(test_data_batch)\n",
    "\n",
    "    torch.save(test_data_batch, test_save_path)\n",
    "    print(f\"\\nTest data saved to: {test_save_path}\")\n",
    "\n",
    "main()\n"
   ]
  },
  {
   "cell_type": "code",
   "execution_count": 4,
   "id": "5ad53aa8",
   "metadata": {},
   "outputs": [],
   "source": [
    "def print_graph_info(batch):\n",
    "    \"\"\"\n",
    "    Gibt Informationen über die Anzahl der Knoten, Kanten und Attribute des Graphen aus.\n",
    "    \"\"\"\n",
    "    # Anzahl der Graphen im Batch\n",
    "    num_graphs = batch.num_graphs\n",
    "    print(f\"Number of graphs in batch: {num_graphs}\")\n",
    "    \n",
    "    # Knoten\n",
    "    num_nodes = batch.x.shape[0]  # Anzahl der Knoten\n",
    "    print(f\"Number of nodes: {num_nodes}\")\n",
    "    print(f\"Node feature shape: {batch.x.shape}\")\n",
    "    \n",
    "    # Kanten\n",
    "    num_edges = batch.edge_index.shape[1]  # Anzahl der Kanten (Spalten von edge_index)\n",
    "    print(f\"Number of edges: {num_edges}\")\n",
    "    print(f\"Edge index shape: {batch.edge_index.shape}\")\n",
    "    \n",
    "    if batch.edge_attr is not None:\n",
    "        print(f\"Edge attributes shape: {batch.edge_attr.shape}\")\n",
    "    \n",
    "    if batch.x is not None:\n",
    "        print(f\"Node features shape: {batch.x.shape}\")\n",
    "    else:\n",
    "        print(\"No node features available.\")\n",
    "\n",
    "\n"
   ]
  },
  {
   "cell_type": "code",
   "execution_count": 6,
   "id": "9c5518ff",
   "metadata": {},
   "outputs": [
    {
     "name": "stdout",
     "output_type": "stream",
     "text": [
      "Number of graphs in batch: 12\n",
      "Number of nodes: 163599\n",
      "Node feature shape: torch.Size([163599, 2])\n",
      "Number of edges: 390360\n",
      "Edge index shape: torch.Size([2, 390360])\n",
      "Edge attributes shape: torch.Size([390360, 4])\n",
      "Node features shape: torch.Size([163599, 2])\n"
     ]
    }
   ],
   "source": [
    "import torch\n",
    "\n",
    "# Laden der gespeicherten Batch-Datei\n",
    "test_data_batch = torch.load('../../../data/data_splits/test_data.pt', weights_only=False)\n",
    "\n",
    "# Funktionsaufruf zur Anzeige der Graph-Informationen\n",
    "print_graph_info(test_data_batch)\n"
   ]
  }
 ],
 "metadata": {
  "kernelspec": {
   "display_name": "Python 3",
   "language": "python",
   "name": "python3"
  },
  "language_info": {
   "codemirror_mode": {
    "name": "ipython",
    "version": 3
   },
   "file_extension": ".py",
   "mimetype": "text/x-python",
   "name": "python",
   "nbconvert_exporter": "python",
   "pygments_lexer": "ipython3",
   "version": "3.13.2"
  }
 },
 "nbformat": 4,
 "nbformat_minor": 5
}
