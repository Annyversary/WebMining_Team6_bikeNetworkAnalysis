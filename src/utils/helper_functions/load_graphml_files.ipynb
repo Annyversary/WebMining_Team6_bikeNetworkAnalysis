{
 "cells": [
  {
   "cell_type": "markdown",
   "id": "0113442e",
   "metadata": {},
   "source": [
    "### Loading and Preparing Graph Data from GraphML Files\n",
    "\n",
    "The `load_graphml_files` function loads a series of bicycle traffic network graphs stored in GraphML format and prepares them for training with PyTorch Geometric (PyG). The objective is to convert each monthly graph into a format compatible with Graph Neural Networks (GNNs), ensuring that both node and edge features are retained.\n",
    "\n",
    "Each NetworkX graph is converted into a PyG `Data` object using a custom helper function `transform_networkx_into_pyg`. This function ensures that essential node and edge attributes such as:\n",
    "\n",
    "- **Node attributes**:\n",
    "  - `lon` (longitude),\n",
    "  - `lat` (latitude),\n",
    "  \n",
    "- **Edge attributes**:\n",
    "  - `speed_rel` (relative speed),\n",
    "  - `month` (for cyclical encoding of months),\n",
    "  - `year` (the year of the traffic data),\n",
    "  - `id` (an identifier for a certain trackfrom A to B),\n",
    "  - `tracks` (the number of bicycles traveling from the starting to the ending point),\n",
    "\n",
    "are preserved during the conversion process.\n",
    "\n",
    "PyG expects data in a specific structure, particularly when both node and edge attributes are used in models like GATv2.\n",
    "\n",
    "`data_list` contains multiple `torch_geometric.data.Data` objects, each representing a graph.\n"
   ]
  },
  {
   "cell_type": "code",
   "execution_count": null,
   "id": "c85de3eb",
   "metadata": {},
   "outputs": [],
   "source": [
    "import os\n",
    "import sys\n",
    "import networkx as nx\n",
    "import import_ipynb \n",
    "\n",
    "src_path = os.path.abspath(os.path.join(os.getcwd(), \"..\", \"..\"))\n",
    "if src_path not in sys.path:\n",
    "    sys.path.append(src_path)\n",
    "\n",
    "from utils.wrapper.transform_networkx_into_pyg import transform_networkx_into_pyg\n",
    "\n",
    "def load_graphml_files(years=[2021, 2022, 2023]):\n",
    "    \"\"\"\n",
    "    Loads multiple directed graph files in GraphML format and converts them \n",
    "    into PyTorch Geometric (PyG) Data objects.\n",
    "\n",
    "    Parameters:\n",
    "    -----------\n",
    "    years : list of int (default=[2021, 2022, 2023])\n",
    "        List of years for which graph files should be loaded. \n",
    "        Assumes 12 monthly files per year.\n",
    "\n",
    "    Returns:\n",
    "    --------\n",
    "    data_list : list of torch_geometric.data.Data\n",
    "        List of PyG data objects created from the loaded NetworkX graphs.\n",
    "    \"\"\"\n",
    "\n",
    "    data_list = []\n",
    "\n",
    "    for year in years:\n",
    "        for i in range(12):\n",
    "            path = f\"../../../data/graphml/{year}/bike_network_{year}_{i}.graphml\"\n",
    "            if not os.path.exists(path):\n",
    "                print(f\"[WARN] File not found: {path}\")\n",
    "                continue\n",
    "\n",
    "            G_nx = nx.read_graphml(path)\n",
    "            G_nx = nx.DiGraph(G_nx)\n",
    "\n",
    "            data = transform_networkx_into_pyg(G_nx)\n",
    "            data_list.append(data)\n",
    "\n",
    "    print(f\"Number of loaded graphs: {len(data_list)}\")\n",
    "    return data_list"
   ]
  }
 ],
 "metadata": {
  "kernelspec": {
   "display_name": "Python 3",
   "language": "python",
   "name": "python3"
  },
  "language_info": {
   "codemirror_mode": {
    "name": "ipython",
    "version": 3
   },
   "file_extension": ".py",
   "mimetype": "text/x-python",
   "name": "python",
   "nbconvert_exporter": "python",
   "pygments_lexer": "ipython3",
   "version": "3.13.2"
  }
 },
 "nbformat": 4,
 "nbformat_minor": 5
}
