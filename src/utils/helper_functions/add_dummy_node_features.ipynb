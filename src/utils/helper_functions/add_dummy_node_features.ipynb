{
 "cells": [
  {
   "cell_type": "markdown",
   "id": "a8cf5f66",
   "metadata": {},
   "source": [
    "## Helper Method: `add_dummy_node_features`\n",
    "\n",
    "The method `add_dummy_node_features` has been implemented to add **dummy node features** to each graph in a list of PyTorch Geometric `Data` objects. This function was specifically designed to append node features to the graph, which act as placeholders (dummy values) and can later be used in Graph Neural Network (GNN) models. Some models (like GAT) may not run otherwise.\n",
    "\n",
    "The dummy features will be replaced later, once we have performed feature engineering. This method will likely be removed at that point.\n"
   ]
  },
  {
   "cell_type": "code",
   "execution_count": 1,
   "id": "4843b857",
   "metadata": {},
   "outputs": [],
   "source": [
    "import torch\n",
    "\n",
    "def add_dummy_node_features(data_list, feature_dim=1, value=1.0):\n",
    "    \"\"\"\n",
    "    Adds dummy node features to each Data object in the list.\n",
    "\n",
    "    Args:\n",
    "        data_list (list of torch_geometric.data.Data): List of graph Data objects.\n",
    "        feature_dim (int): Number of features per node (default is 1).\n",
    "        value (float): Value to fill for each dummy feature (default is 1.0).\n",
    "\n",
    "    Returns:\n",
    "        list of torch_geometric.data.Data: Updated list with dummy node features.\n",
    "    \"\"\"\n",
    "    for data in data_list:\n",
    "        num_nodes = data.num_nodes\n",
    "        data.x = torch.full((num_nodes, feature_dim), fill_value=value, dtype=torch.float32)\n",
    "    \n",
    "    return data_list\n"
   ]
  }
 ],
 "metadata": {
  "kernelspec": {
   "display_name": "Python 3",
   "language": "python",
   "name": "python3"
  },
  "language_info": {
   "codemirror_mode": {
    "name": "ipython",
    "version": 3
   },
   "file_extension": ".py",
   "mimetype": "text/x-python",
   "name": "python",
   "nbconvert_exporter": "python",
   "pygments_lexer": "ipython3",
   "version": "3.13.2"
  }
 },
 "nbformat": 4,
 "nbformat_minor": 5
}
