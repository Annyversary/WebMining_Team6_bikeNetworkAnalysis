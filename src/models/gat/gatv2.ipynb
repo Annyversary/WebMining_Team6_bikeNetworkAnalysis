{
 "cells": [
  {
   "cell_type": "code",
   "execution_count": null,
   "id": "58fe2c05",
   "metadata": {},
   "outputs": [],
   "source": [
    "import networkx as nx\n",
    "from torch_geometric.utils import from_networkx\n",
    "import os\n",
    "import sys\n",
    "\n",
    "# gat → models → src\n",
    "src_path = os.path.abspath(os.path.join(os.getcwd(), \"..\", \"..\"))\n",
    "if src_path not in sys.path:\n",
    "    sys.path.append(src_path)\n",
    "\n",
    "\n",
    "import import_ipynb \n",
    "from utils.networkx_to_pyg_wrapper import from_networkx_with_edge_attrs\n",
    "\n"
   ]
  },
  {
   "cell_type": "code",
   "execution_count": 18,
   "id": "731c66ce",
   "metadata": {},
   "outputs": [
    {
     "ename": "TypeError",
     "evalue": "from_networkx() got an unexpected keyword argument 'edge_attrs'",
     "output_type": "error",
     "traceback": [
      "\u001b[31m---------------------------------------------------------------------------\u001b[39m",
      "\u001b[31mTypeError\u001b[39m                                 Traceback (most recent call last)",
      "\u001b[36mCell\u001b[39m\u001b[36m \u001b[39m\u001b[32mIn[18]\u001b[39m\u001b[32m, line 6\u001b[39m\n\u001b[32m      4\u001b[39m G_nx = nx.read_graphml(path)\n\u001b[32m      5\u001b[39m G_nx = nx.DiGraph(G_nx)\n\u001b[32m----> \u001b[39m\u001b[32m6\u001b[39m data = \u001b[43mfrom_networkx\u001b[49m\u001b[43m(\u001b[49m\u001b[43mG_nx\u001b[49m\u001b[43m,\u001b[49m\u001b[43m \u001b[49m\u001b[43medge_attrs\u001b[49m\u001b[43m=\u001b[49m\u001b[43m[\u001b[49m\u001b[33;43m'\u001b[39;49m\u001b[33;43mtracks\u001b[39;49m\u001b[33;43m'\u001b[39;49m\u001b[43m,\u001b[49m\u001b[43m \u001b[49m\u001b[33;43m'\u001b[39;49m\u001b[33;43mmonth\u001b[39;49m\u001b[33;43m'\u001b[39;49m\u001b[43m,\u001b[49m\u001b[43m \u001b[49m\u001b[33;43m'\u001b[39;49m\u001b[33;43myear\u001b[39;49m\u001b[33;43m'\u001b[39;49m\u001b[43m,\u001b[49m\u001b[43m \u001b[49m\u001b[33;43m'\u001b[39;49m\u001b[33;43mspeed_rel\u001b[39;49m\u001b[33;43m'\u001b[39;49m\u001b[43m]\u001b[49m\u001b[43m)\u001b[49m\n\u001b[32m      7\u001b[39m data_list.append(data)\n",
      "\u001b[31mTypeError\u001b[39m: from_networkx() got an unexpected keyword argument 'edge_attrs'"
     ]
    }
   ],
   "source": [
    "data_list = []\n",
    "for i in range(12):  # 0 bis 11\n",
    "    path = f\"../../graphs/2023/bike_network_2023_{i}.graphml\"\n",
    "    G_nx = nx.read_graphml(path)\n",
    "    G_nx = nx.DiGraph(G_nx)\n",
    "    data = from_networkx(G_nx, edge_attrs=['tracks', 'month', 'year', 'speed_rel'])\n",
    "    data_list.append(data)\n"
   ]
  },
  {
   "cell_type": "code",
   "execution_count": null,
   "id": "5a77b390",
   "metadata": {},
   "outputs": [],
   "source": [
    "import torch\n",
    "import torch.nn.functional as F\n",
    "from torch_geometric.nn import GATv2Conv\n",
    "\n",
    "class GATv2(torch.nn.Module):\n",
    "    def __init__(self, in_channels, hidden_channels, out_channels, edge_dim, heads=1):\n",
    "        super(GATv2, self).__init__()\n",
    "\n",
    "        # First GATv2 layer, with edge attributes\n",
    "        self.gat1 = GATv2Conv(in_channels, hidden_channels, heads=heads, edge_dim=edge_dim)\n",
    "\n",
    "        # Second GATv2 layer, output dimension = out_channels\n",
    "        self.gat2 = GATv2Conv(hidden_channels * heads, out_channels, heads=1, edge_dim=edge_dim)\n",
    "\n",
    "    def forward(self, x, edge_index, edge_attr):\n",
    "        # Apply first GATv2 layer with edge attributes\n",
    "        x = self.gat1(x, edge_index, edge_attr)\n",
    "        x = F.elu(x)\n",
    "\n",
    "        # Apply second GATv2 layer\n",
    "        x = self.gat2(x, edge_index, edge_attr)\n",
    "        return x\n"
   ]
  }
 ],
 "metadata": {
  "kernelspec": {
   "display_name": "Python 3",
   "language": "python",
   "name": "python3"
  },
  "language_info": {
   "codemirror_mode": {
    "name": "ipython",
    "version": 3
   },
   "file_extension": ".py",
   "mimetype": "text/x-python",
   "name": "python",
   "nbconvert_exporter": "python",
   "pygments_lexer": "ipython3",
   "version": "3.13.2"
  }
 },
 "nbformat": 4,
 "nbformat_minor": 5
}
