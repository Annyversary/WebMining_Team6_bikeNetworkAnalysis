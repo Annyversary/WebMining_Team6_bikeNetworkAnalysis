{
 "cells": [
  {
   "cell_type": "markdown",
   "id": "a458bebc",
   "metadata": {},
   "source": [
    "## Graph Attention Network (GAT)\n"
   ]
  },
  {
   "cell_type": "markdown",
   "id": "8d387ed8",
   "metadata": {},
   "source": [
    "### Importing Dependencies\n",
    "\n",
    "We import the necessary libraries and functions, ensuring that all required modules and helper functions are properly integrated."
   ]
  },
  {
   "cell_type": "code",
   "execution_count": 18,
   "id": "58fe2c05",
   "metadata": {},
   "outputs": [],
   "source": [
    "import networkx as nx\n",
    "import os\n",
    "import sys\n",
    "\n",
    "from torch_geometric.data import Data\n",
    "from torch_geometric.utils import from_networkx\n",
    "\n",
    "# gat → models → src\n",
    "src_path = os.path.abspath(os.path.join(os.getcwd(), \"..\", \"..\"))\n",
    "if src_path not in sys.path:\n",
    "    sys.path.append(src_path)\n"
   ]
  },
  {
   "cell_type": "markdown",
   "id": "9ed1c50d",
   "metadata": {},
   "source": [
    "## Implementing a GAT Model"
   ]
  },
  {
   "cell_type": "markdown",
   "id": "bd348f6d",
   "metadata": {},
   "source": [
    "### From GAT to GATv2\n",
    "\n",
    "We initially started by implementing a vanilla GAT model—an advanced type of Graph Neural Network (GNN) that leverages **attention mechanisms**. However, we soon realized that this model is not capable of learning from **edge attributes**, which is essential for our task. This limitation became especially critical because our original dataset does not contain any **node attributes** at all.\n",
    "\n",
    "This led us to adopt the **GATv2** model, which is specifically designed to aggregate node features while also considering **edge attributes** during message passing. It is more suitable for our purposes.\n",
    "\n",
    "The GATv2 model expects the following **inputs**:\n",
    "- `x`: Node features → `data.x`\n",
    "- `edge_index`: Edge list → `data.edge_index`\n",
    "- `edge_attr`: Edge attributes → `data.edge_attr`\n",
    "\n",
    "These inputs are automatically passed from the `Data` object when calling the model.\n",
    "\n",
    "**Output:**  \n",
    "The model returns **node representations (embeddings)**—a tensor with one row per node and one column per output feature.\n",
    "\n"
   ]
  },
  {
   "cell_type": "code",
   "execution_count": 19,
   "id": "5a77b390",
   "metadata": {},
   "outputs": [],
   "source": [
    "import torch\n",
    "import torch.nn.functional as F\n",
    "from torch_geometric.nn import GATv2Conv\n",
    "\n",
    "\n",
    "class GATv2(torch.nn.Module):\n",
    "    def __init__(self, in_channels, hidden_channels, out_channels, edge_dim, heads=1):\n",
    "        super(GATv2, self).__init__()\n",
    "\n",
    "        # First GATv2 layer, with edge attributes\n",
    "        self.gat1 = GATv2Conv(in_channels, hidden_channels, heads=heads, edge_dim=edge_dim)\n",
    "\n",
    "        # Second GATv2 layer, output dimension = out_channels\n",
    "        self.gat2 = GATv2Conv(hidden_channels * heads, out_channels, heads=1, edge_dim=edge_dim)\n",
    "\n",
    "    def forward(self, x, edge_index, edge_attr):\n",
    "        # Apply first GATv2 layer with edge attributes\n",
    "        x = self.gat1(x, edge_index, edge_attr)\n",
    "        x = F.elu(x)\n",
    "\n",
    "        # Apply second GATv2 layer\n",
    "        x = self.gat2(x, edge_index, edge_attr)\n",
    "        return x\n"
   ]
  },
  {
   "cell_type": "markdown",
   "id": "b517e9d4",
   "metadata": {},
   "source": [
    "### Advancing to an Encoder-Decoder Architecture\n",
    "\n",
    "However, the original GATv2 model is primarily designed to learn **node embeddings**. These are useful for tasks such as node classification but are **not directly applicable to predicting edge attributes** like our target edge weight `tracks`.\n",
    "\n",
    "Since our objective is to **predict edge values**, using a node-only model is insufficient. To address this, we extend the GATv2 architecture by incorporating a **decoder module** that transforms node embeddings into edge-level predictions.\n",
    "\n",
    "Our final model follows a typical **encoder-decoder architecture**:\n",
    "\n",
    "- **Encoder:**  \n",
    "  We use the GATv2 model as the encoder to compute **informative node embeddings** based on the graph structure, edge attributes, and (if available) node features.\n",
    "\n",
    "- **Decoder:**  \n",
    "  As the decoder, we use a **small multilayer perceptron (MLP)** that takes as input the **concatenated embeddings** of each edge's source and target nodes.  \n",
    "  This MLP outputs a **single scalar value per edge**, which serves as the prediction for the edge attribute `tracks`.\n"
   ]
  },
  {
   "cell_type": "code",
   "execution_count": 20,
   "id": "af2e4cf5",
   "metadata": {},
   "outputs": [],
   "source": [
    "import torch.nn as nn\n",
    "\n",
    "class GATv2EdgePredictor(nn.Module):\n",
    "    def __init__(self, \n",
    "                 in_channels, \n",
    "                 hidden_channels, \n",
    "                 out_channels, \n",
    "                 edge_dim, \n",
    "                 heads=1):\n",
    "        super(GATv2EdgePredictor, self).__init__()\n",
    "\n",
    "        # 1. GATv2 model for computing node embeddings\n",
    "        self.gnn = GATv2(in_channels, hidden_channels, out_channels, edge_dim, heads)\n",
    "\n",
    "        # 2. Edge MLP to predict edge attributes (e.g., \"tracks\")\n",
    "        self.edge_mlp = nn.Sequential(\n",
    "            nn.Linear(out_channels * 2, out_channels),\n",
    "            nn.ReLU(),\n",
    "            nn.Linear(out_channels, 1)  # Output: a single scalar per edge\n",
    "        )\n",
    "\n",
    "    def forward(self, data):\n",
    "        \"\"\"\n",
    "        Args:\n",
    "            data: PyTorch Geometric Data object with attributes:\n",
    "                  - x: node features\n",
    "                  - edge_index: edge connectivity (COO format)\n",
    "                  - edge_attr: edge attributes\n",
    "\n",
    "        Returns:\n",
    "            pred: Tensor of shape [num_edges, 1] with predicted edge weights (e.g., \"tracks\")\n",
    "        \"\"\"\n",
    "        # Compute node embeddings using the GATv2 model\n",
    "        x = self.gnn(data.x, data.edge_index, data.edge_attr)  # [num_nodes, out_channels]\n",
    "\n",
    "        # Construct edge representations by concatenating source and target node embeddings\n",
    "        row, col = data.edge_index  # source & target node indices for each edge\n",
    "        edge_inputs = torch.cat([x[row], x[col]], dim=1)  # [num_edges, out_channels * 2]\n",
    "\n",
    "        # Predict edge weights\n",
    "        pred = self.edge_mlp(edge_inputs)  # [num_edges, 1]\n",
    "        return pred\n"
   ]
  }
 ],
 "metadata": {
  "kernelspec": {
   "display_name": "Python 3",
   "language": "python",
   "name": "python3"
  },
  "language_info": {
   "codemirror_mode": {
    "name": "ipython",
    "version": 3
   },
   "file_extension": ".py",
   "mimetype": "text/x-python",
   "name": "python",
   "nbconvert_exporter": "python",
   "pygments_lexer": "ipython3",
   "version": "3.13.2"
  }
 },
 "nbformat": 4,
 "nbformat_minor": 5
}
