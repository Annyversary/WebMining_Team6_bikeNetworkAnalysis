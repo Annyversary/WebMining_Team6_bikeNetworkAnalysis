{
 "cells": [
  {
   "cell_type": "markdown",
   "id": "a458bebc",
   "metadata": {},
   "source": [
    "## Graph Attention Network (GAT)\n",
    "\n",
    "### Importing Dependencies\n",
    "\n",
    "We import the necessary libraries and functions, ensuring that all required modules and helper functions are properly integrated.\n"
   ]
  },
  {
   "cell_type": "code",
   "execution_count": 2,
   "id": "58fe2c05",
   "metadata": {},
   "outputs": [],
   "source": [
    "import networkx as nx\n",
    "from torch_geometric.utils import from_networkx\n",
    "import os\n",
    "import sys\n",
    "\n",
    "# gat → models → src\n",
    "src_path = os.path.abspath(os.path.join(os.getcwd(), \"..\", \"..\"))\n",
    "if src_path not in sys.path:\n",
    "    sys.path.append(src_path)\n",
    "\n",
    "\n",
    "import import_ipynb \n",
    "from utils.wrapper.networkx_to_pyg import networkx_to_pyg\n",
    "from utils.add_dummy_node_features import add_dummy_node_features\n",
    "\n"
   ]
  },
  {
   "cell_type": "markdown",
   "id": "98755922",
   "metadata": {},
   "source": [
    "### Loading and Preparing Graph Data from GraphML Files\n",
    "\n",
    "This code snippet loads a series of bicycle traffic network graphs stored in GraphML format and prepares them for training with PyTorch Geometric (PyG). The objective is to convert each monthly graph into a format compatible with Graph Neural Networks (GNNs), ensuring that edge features are retained.\n",
    "\n",
    "Each NetworkX graph is converted into a PyG `Data` object using a custom helper function `networkx_to_pyg`. This function ensures that essential edge attributes such as:\n",
    "\n",
    "- `tracks` (the number of bicycles traveling from the starting to the ending point),\n",
    "- `month` and `year`,\n",
    "- `speed_rel` (relative speed),\n",
    "\n",
    "are preserved during the conversion process.\n",
    "\n",
    "PyG expects data in a specific structure, particularly when edge attributes are used in models like GATv2.\n",
    "\n",
    "`data_list` contains multiple `torch_geometric.data.Data` objects, each representing a graph.\n"
   ]
  },
  {
   "cell_type": "code",
   "execution_count": 3,
   "id": "731c66ce",
   "metadata": {},
   "outputs": [
    {
     "name": "stdout",
     "output_type": "stream",
     "text": [
      "Number of graphs: 12\n"
     ]
    }
   ],
   "source": [
    "\n",
    "# Initialize an empty list to store the PyTorch Geometric Data objects\n",
    "data_list = []\n",
    "\n",
    "# Iterate over the 12 graph files (from 0 to 11)\n",
    "for i in range(12):  # 0 to 11\n",
    "    # Build the path to the graph file\n",
    "    path = f\"../../../graphs/2023/bike_network_2023_{i}.graphml\"\n",
    "    \n",
    "    # Read the graph from the GraphML file\n",
    "    G_nx = nx.read_graphml(path)\n",
    "    \n",
    "    # Ensure the graph is loaded as a directed graph (DiGraph)\n",
    "    G_nx = nx.DiGraph(G_nx)\n",
    "    \n",
    "    # Use the custom function to convert the NetworkX graph to a PyTorch Geometric Data object\n",
    "    # The edge attributes (such as 'tracks', 'month', 'year', 'speed_rel') will be preserved\n",
    "    data = networkx_to_pyg(G_nx)\n",
    "    \n",
    "    # Append the Data object to the list\n",
    "    data_list.append(data)\n",
    "\n",
    "# Check the result - number of graphs (Data objects) loaded\n",
    "print(f\"Number of graphs: {len(data_list)}\")\n"
   ]
  },
  {
   "cell_type": "markdown",
   "id": "a7d10c2e",
   "metadata": {},
   "source": [
    "### Adding Dummy Node Features to the Graphs\n",
    "\n",
    "In this section of the code, we add **dummy node features** to our graphs. This process ensures that each node in our graphs has a **feature dimension**, even if no node features were originally present. This is an important step in preparing the data for use in Graph Neural Networks (GNNs).\n",
    "\n",
    "**NOTE:** At a later stage, once we have implemented feature engineering, we will replace the dummy features with the engineered ones.\n"
   ]
  },
  {
   "cell_type": "code",
   "execution_count": 3,
   "id": "7c85152b",
   "metadata": {},
   "outputs": [],
   "source": [
    "data_list = add_dummy_node_features(data_list, feature_dim=1, value=1.0)\n"
   ]
  },
  {
   "cell_type": "markdown",
   "id": "bd348f6d",
   "metadata": {},
   "source": [
    "## Implementing the GATv2 Model\n",
    "\n",
    "We implement the **Graph Attention Network (GATv2)** model, an advanced model for Graph Neural Networks (GNNs) that is based on the principles of **attention mechanisms**. It is specifically designed to aggregate node features while learning the relationships between nodes, taking into account **edge attributes**.\n",
    "\n",
    "The GATv2 model expects the following **input**:\n",
    "- `x`: Node features → `data.x`\n",
    "- `edge_index`: Edge list → `data.edge_index`\n",
    "- `edge_attr`: Edge attributes → `data.edge_attr`\n",
    "\n",
    "These values are passed from the `Data` object when calling your model.\n",
    "\n",
    "**Output**: The model currently returns node representations (node embeddings) – a tensor with one row per node and one column per feature at the output.\n"
   ]
  },
  {
   "cell_type": "code",
   "execution_count": null,
   "id": "5a77b390",
   "metadata": {},
   "outputs": [],
   "source": [
    "import torch\n",
    "import torch.nn.functional as F\n",
    "from torch_geometric.nn import GATv2Conv\n",
    "\n",
    "class GATv2(torch.nn.Module):\n",
    "    def __init__(self, in_channels, hidden_channels, out_channels, edge_dim, heads=1):\n",
    "        super(GATv2, self).__init__()\n",
    "\n",
    "        # First GATv2 layer, with edge attributes\n",
    "        self.gat1 = GATv2Conv(in_channels, hidden_channels, heads=heads, edge_dim=edge_dim)\n",
    "\n",
    "        # Second GATv2 layer, output dimension = out_channels\n",
    "        self.gat2 = GATv2Conv(hidden_channels * heads, out_channels, heads=1, edge_dim=edge_dim)\n",
    "\n",
    "    def forward(self, x, edge_index, edge_attr):\n",
    "        # Apply first GATv2 layer with edge attributes\n",
    "        x = self.gat1(x, edge_index, edge_attr)\n",
    "        x = F.elu(x)\n",
    "\n",
    "        # Apply second GATv2 layer\n",
    "        x = self.gat2(x, edge_index, edge_attr)\n",
    "        return x\n"
   ]
  }
 ],
 "metadata": {
  "kernelspec": {
   "display_name": "Python 3",
   "language": "python",
   "name": "python3"
  },
  "language_info": {
   "codemirror_mode": {
    "name": "ipython",
    "version": 3
   },
   "file_extension": ".py",
   "mimetype": "text/x-python",
   "name": "python",
   "nbconvert_exporter": "python",
   "pygments_lexer": "ipython3",
   "version": "3.13.2"
  }
 },
 "nbformat": 4,
 "nbformat_minor": 5
}
